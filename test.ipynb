{
 "cells": [
  {
   "cell_type": "code",
   "execution_count": 1,
   "id": "d8745bf1",
   "metadata": {},
   "outputs": [],
   "source": [
    "#class\n",
    "class emp():\n",
    "    pass"
   ]
  },
  {
   "cell_type": "code",
   "execution_count": 2,
   "id": "7f17f30b",
   "metadata": {},
   "outputs": [],
   "source": [
    "a= emp()"
   ]
  },
  {
   "cell_type": "code",
   "execution_count": 3,
   "id": "51e941d2",
   "metadata": {},
   "outputs": [
    {
     "name": "stdout",
     "output_type": "stream",
     "text": [
      "<__main__.emp object at 0x0000023C3ED81790>\n"
     ]
    }
   ],
   "source": [
    "print(a)"
   ]
  },
  {
   "cell_type": "code",
   "execution_count": 9,
   "id": "a8d7c3c8",
   "metadata": {},
   "outputs": [],
   "source": [
    "class nano():\n",
    "    \n",
    "    def speed(self):\n",
    "        print(\"speed of the car is 50 km/hr\")\n",
    "    def engine(self):\n",
    "        print(\"v1 engine\")"
   ]
  },
  {
   "cell_type": "code",
   "execution_count": 10,
   "id": "ad837803",
   "metadata": {},
   "outputs": [],
   "source": [
    "class jeep():\n",
    "    \n",
    "    def speed (self):\n",
    "        print(\"speed of the car is 140 km/hr\")\n",
    "    def engine(self):\n",
    "        print(\"v2 engine\")"
   ]
  },
  {
   "cell_type": "code",
   "execution_count": 11,
   "id": "227601fd",
   "metadata": {},
   "outputs": [],
   "source": [
    "a=nano()\n",
    "b=jeep()"
   ]
  },
  {
   "cell_type": "code",
   "execution_count": 12,
   "id": "18b4a621",
   "metadata": {},
   "outputs": [
    {
     "name": "stdout",
     "output_type": "stream",
     "text": [
      "v1 engine\n"
     ]
    }
   ],
   "source": [
    "a.engine()"
   ]
  },
  {
   "cell_type": "code",
   "execution_count": 13,
   "id": "1d4f437c",
   "metadata": {},
   "outputs": [
    {
     "name": "stdout",
     "output_type": "stream",
     "text": [
      "v2 engine\n"
     ]
    }
   ],
   "source": [
    "b.engine()"
   ]
  },
  {
   "cell_type": "code",
   "execution_count": 14,
   "id": "bb1129ef",
   "metadata": {},
   "outputs": [
    {
     "name": "stdout",
     "output_type": "stream",
     "text": [
      "speed of the car is 50 km/hr\n"
     ]
    }
   ],
   "source": [
    "a.speed()"
   ]
  },
  {
   "cell_type": "code",
   "execution_count": 46,
   "id": "6acf87a4",
   "metadata": {},
   "outputs": [],
   "source": [
    "#constructer\n",
    "class briyani():\n",
    "    \n",
    "    def __init__(self,rice,ing):\n",
    "        self.rce = rice\n",
    "        self.ing = ing\n",
    "        \n",
    "    def rice(self):\n",
    "        print(\"im going to use\",self.rce)\n",
    "    def ingred(self):\n",
    "        print(\"ingred is\",self.ing)\n",
    "        \n",
    "    def cool(self):\n",
    "        print(\"briyani is ready\")"
   ]
  },
  {
   "cell_type": "code",
   "execution_count": 47,
   "id": "7ef1f86a",
   "metadata": {},
   "outputs": [],
   "source": [
    "a = briyani(\"srice\",\"chicken\")\n",
    "b = briyani(\"basamadhi\",\"veg\")"
   ]
  },
  {
   "cell_type": "code",
   "execution_count": 48,
   "id": "dde379db",
   "metadata": {},
   "outputs": [
    {
     "name": "stdout",
     "output_type": "stream",
     "text": [
      "im going to use srice\n"
     ]
    }
   ],
   "source": [
    "a.rice()"
   ]
  },
  {
   "cell_type": "code",
   "execution_count": 49,
   "id": "733550f0",
   "metadata": {},
   "outputs": [
    {
     "name": "stdout",
     "output_type": "stream",
     "text": [
      "ingred is veg\n"
     ]
    }
   ],
   "source": [
    "b.ingred()"
   ]
  },
  {
   "cell_type": "raw",
   "id": "49babe28",
   "metadata": {},
   "source": []
  },
  {
   "cell_type": "code",
   "execution_count": 62,
   "id": "7718faa4",
   "metadata": {},
   "outputs": [],
   "source": [
    "class clac():\n",
    "    \n",
    "    def add(self):\n",
    "        a=2\n",
    "        b=6\n",
    "        c=a+b\n",
    "        print(c)\n",
    "        \n",
    "    def sub(self):\n",
    "        d= 5\n",
    "        e=6\n",
    "        f=d-e\n",
    "        print(f)\n",
    "        \n",
    "class clac1():\n",
    "    \n",
    "    def mul(self):\n",
    "        a=5\n",
    "        b=20\n",
    "        c=a*b\n",
    "        print(c)\n",
    "    def div(self):\n",
    "        d=5\n",
    "        e=20\n",
    "        f=d%e\n",
    "        print(f)\n",
    "    \n",
    "  "
   ]
  },
  {
   "cell_type": "code",
   "execution_count": 63,
   "id": "eaf6da5d",
   "metadata": {},
   "outputs": [],
   "source": [
    "a=clac()\n",
    "b=clac1()"
   ]
  },
  {
   "cell_type": "code",
   "execution_count": 64,
   "id": "adfc479f",
   "metadata": {},
   "outputs": [
    {
     "name": "stdout",
     "output_type": "stream",
     "text": [
      "8\n"
     ]
    }
   ],
   "source": [
    "a.add()"
   ]
  },
  {
   "cell_type": "code",
   "execution_count": 66,
   "id": "3169c399",
   "metadata": {},
   "outputs": [
    {
     "name": "stdout",
     "output_type": "stream",
     "text": [
      "-1\n"
     ]
    }
   ],
   "source": [
    "a.sub()"
   ]
  },
  {
   "cell_type": "code",
   "execution_count": 67,
   "id": "09c5804c",
   "metadata": {},
   "outputs": [
    {
     "name": "stdout",
     "output_type": "stream",
     "text": [
      "100\n"
     ]
    }
   ],
   "source": [
    "b.mul()"
   ]
  },
  {
   "cell_type": "code",
   "execution_count": 68,
   "id": "db6bdc37",
   "metadata": {},
   "outputs": [
    {
     "name": "stdout",
     "output_type": "stream",
     "text": [
      "5\n"
     ]
    }
   ],
   "source": [
    "b.div()"
   ]
  },
  {
   "cell_type": "code",
   "execution_count": 71,
   "id": "4025468f",
   "metadata": {},
   "outputs": [],
   "source": [
    "#inheritance\n",
    "class clac():\n",
    "    \n",
    "    def add(self,a,b):\n",
    "        return(a+b)\n",
    "    def sub(self,a,b):\n",
    "        return(a-b)"
   ]
  },
  {
   "cell_type": "code",
   "execution_count": 72,
   "id": "0f6f5df3",
   "metadata": {},
   "outputs": [],
   "source": [
    "class clac1():\n",
    "    \n",
    "    def mul(self,a,b):\n",
    "        return(a*b)\n",
    "    def div(self,a,b):\n",
    "        return(a%b)"
   ]
  },
  {
   "cell_type": "code",
   "execution_count": 74,
   "id": "a8c7dc89",
   "metadata": {},
   "outputs": [],
   "source": [
    "class clac2(clac,clac1):\n",
    "    pass\n",
    "     "
   ]
  },
  {
   "cell_type": "code",
   "execution_count": 75,
   "id": "41b3cc06",
   "metadata": {},
   "outputs": [],
   "source": [
    "a=clac2()"
   ]
  },
  {
   "cell_type": "code",
   "execution_count": 78,
   "id": "8ef9e96d",
   "metadata": {},
   "outputs": [],
   "source": [
    "b=a.add(5,5)"
   ]
  },
  {
   "cell_type": "code",
   "execution_count": 80,
   "id": "36a2beba",
   "metadata": {},
   "outputs": [
    {
     "name": "stdout",
     "output_type": "stream",
     "text": [
      "10\n"
     ]
    }
   ],
   "source": [
    "print(b)"
   ]
  },
  {
   "cell_type": "code",
   "execution_count": 127,
   "id": "1cd7d862",
   "metadata": {},
   "outputs": [],
   "source": [
    "class waste():\n",
    "    \n",
    "    def __init__ (self,day,afternoon,night):\n",
    "        self.day =[6,7,8,9]\n",
    "        self.afternoon= [10,11,1,21,13,14]\n",
    "        self.nignt =[15,18,19,20,21,22]\n",
    "        \n",
    "    def mrng(self):\n",
    "        print(\"good morning\")\n",
    "    def mrng1(self):\n",
    "        print(\"time to have breakfast\")\n",
    "        \n",
    "    def aff(self):\n",
    "        print(\"good afternoon\")\n",
    "    def aff1(self):\n",
    "        print(\"time to lunch\")\n",
    "        \n",
    "    def nit(self):\n",
    "        print(\"good night\")\n",
    "    def nit1(self):\n",
    "        print(\"time to sleep\")\n",
    "        \n",
    "class waste1(waste):\n",
    "    pass"
   ]
  },
  {
   "cell_type": "code",
   "execution_count": 132,
   "id": "40f7ac58",
   "metadata": {},
   "outputs": [
    {
     "name": "stdout",
     "output_type": "stream",
     "text": [
      "<__main__.waste1 object at 0x0000023C3FF93250>\n"
     ]
    }
   ],
   "source": [
    "a=waste1(6, 13,20)\n",
    "print(a)"
   ]
  },
  {
   "cell_type": "code",
   "execution_count": 133,
   "id": "2a3a7836",
   "metadata": {},
   "outputs": [],
   "source": [
    "class waste():\n",
    "    \n",
    "    def __init__ (self):\n",
    "        self.day = [6,7,8,9,10]\n",
    "        self.afternoon= [11,12] \n",
    "        self.nignt = [17,23]\n",
    "        \n",
    "    def greeting(self, time):\n",
    "        if time in self.day:\n",
    "            print(\"mng\")\n",
    "    def fud(self, time):\n",
    "        if time in self.afternoon:\n",
    "            print(\"aft\")\n",
    "        else:\n",
    "            print(\"nit\")\n",
    "        \n",
    "  "
   ]
  },
  {
   "cell_type": "code",
   "execution_count": 107,
   "id": "e82dec08",
   "metadata": {},
   "outputs": [],
   "source": [
    "a = waste()"
   ]
  },
  {
   "cell_type": "code",
   "execution_count": 108,
   "id": "04965d5b",
   "metadata": {},
   "outputs": [
    {
     "name": "stdout",
     "output_type": "stream",
     "text": [
      "mng\n"
     ]
    }
   ],
   "source": [
    "a.greeting(6)"
   ]
  },
  {
   "cell_type": "code",
   "execution_count": 109,
   "id": "2c997093",
   "metadata": {},
   "outputs": [
    {
     "name": "stdout",
     "output_type": "stream",
     "text": [
      "nit\n"
     ]
    }
   ],
   "source": [
    "a.fud(6)"
   ]
  },
  {
   "cell_type": "code",
   "execution_count": 146,
   "id": "7f5c2c5b",
   "metadata": {},
   "outputs": [],
   "source": [
    "class you():\n",
    "    \n",
    "    def me(self,a):\n",
    "        if a<=9:\n",
    "            print(\"good morning\")\n",
    "        elif a>9 and a<=17:\n",
    "            print(\"good afternoon\")\n",
    "        elif a>17 and a<=22:\n",
    "            print(\"good night\")\n",
    "    \n",
    "    def i(self,a):\n",
    "        if a<=9:\n",
    "            print(\"time to  breakfast\")\n",
    "        elif a>9 and a<=17:\n",
    "            print(\"time to lunch\")\n",
    "        elif a>17 and a<=22:\n",
    "            print('time to have diner')"
   ]
  },
  {
   "cell_type": "code",
   "execution_count": 147,
   "id": "0692d4d7",
   "metadata": {},
   "outputs": [
    {
     "name": "stdout",
     "output_type": "stream",
     "text": [
      "good afternoon\n",
      "time to have diner\n"
     ]
    }
   ],
   "source": [
    "a=you()\n",
    "a.me(10)\n",
    "a.i(18)"
   ]
  },
  {
   "cell_type": "code",
   "execution_count": 148,
   "id": "d0536681",
   "metadata": {},
   "outputs": [],
   "source": [
    "class you():\n",
    "    \n",
    "    def __init__(self,a):\n",
    "        self.a=a\n",
    "    \n",
    "    def me(self):\n",
    "        if a<=9:\n",
    "            print(\"good morning\")\n",
    "        elif a>9 and a<=17:\n",
    "            print(\"good afternoon\")\n",
    "        elif a>17 and a<=22:\n",
    "            print(\"good night\")\n",
    "    \n",
    "    def i(self):\n",
    "        if a<=9:\n",
    "            print(\"time to  breakfast\")\n",
    "        elif a>9 and a<=17:\n",
    "            print(\"time to lunch\")\n",
    "        elif a>17 and a<=22:\n",
    "            print('time to have diner')"
   ]
  },
  {
   "cell_type": "code",
   "execution_count": 149,
   "id": "d9f5a9fe",
   "metadata": {},
   "outputs": [
    {
     "ename": "TypeError",
     "evalue": "'<=' not supported between instances of 'you' and 'int'",
     "output_type": "error",
     "traceback": [
      "\u001b[1;31m---------------------------------------------------------------------------\u001b[0m",
      "\u001b[1;31mTypeError\u001b[0m                                 Traceback (most recent call last)",
      "Input \u001b[1;32mIn [149]\u001b[0m, in \u001b[0;36m<cell line: 2>\u001b[1;34m()\u001b[0m\n\u001b[0;32m      1\u001b[0m a\u001b[38;5;241m=\u001b[39myou(\u001b[38;5;241m10\u001b[39m)\n\u001b[1;32m----> 2\u001b[0m \u001b[43ma\u001b[49m\u001b[38;5;241;43m.\u001b[39;49m\u001b[43mme\u001b[49m\u001b[43m(\u001b[49m\u001b[43m)\u001b[49m\n\u001b[0;32m      3\u001b[0m a\u001b[38;5;241m.\u001b[39mi()\n",
      "Input \u001b[1;32mIn [148]\u001b[0m, in \u001b[0;36myou.me\u001b[1;34m(self)\u001b[0m\n\u001b[0;32m      6\u001b[0m \u001b[38;5;28;01mdef\u001b[39;00m \u001b[38;5;21mme\u001b[39m(\u001b[38;5;28mself\u001b[39m):\n\u001b[1;32m----> 7\u001b[0m     \u001b[38;5;28;01mif\u001b[39;00m \u001b[43ma\u001b[49m\u001b[38;5;241;43m<\u001b[39;49m\u001b[38;5;241;43m=\u001b[39;49m\u001b[38;5;241;43m9\u001b[39;49m:\n\u001b[0;32m      8\u001b[0m         \u001b[38;5;28mprint\u001b[39m(\u001b[38;5;124m\"\u001b[39m\u001b[38;5;124mgood morning\u001b[39m\u001b[38;5;124m\"\u001b[39m)\n\u001b[0;32m      9\u001b[0m     \u001b[38;5;28;01melif\u001b[39;00m a\u001b[38;5;241m>\u001b[39m\u001b[38;5;241m9\u001b[39m \u001b[38;5;129;01mand\u001b[39;00m a\u001b[38;5;241m<\u001b[39m\u001b[38;5;241m=\u001b[39m\u001b[38;5;241m17\u001b[39m:\n",
      "\u001b[1;31mTypeError\u001b[0m: '<=' not supported between instances of 'you' and 'int'"
     ]
    }
   ],
   "source": [
    "a=you(10)\n",
    "a.me()\n",
    "a.i()\n"
   ]
  },
  {
   "cell_type": "code",
   "execution_count": 150,
   "id": "cb579f12",
   "metadata": {},
   "outputs": [
    {
     "data": {
      "text/plain": [
       "['__class__',\n",
       " '__delattr__',\n",
       " '__dict__',\n",
       " '__dir__',\n",
       " '__doc__',\n",
       " '__eq__',\n",
       " '__format__',\n",
       " '__ge__',\n",
       " '__getattribute__',\n",
       " '__gt__',\n",
       " '__hash__',\n",
       " '__init__',\n",
       " '__init_subclass__',\n",
       " '__le__',\n",
       " '__lt__',\n",
       " '__module__',\n",
       " '__ne__',\n",
       " '__new__',\n",
       " '__reduce__',\n",
       " '__reduce_ex__',\n",
       " '__repr__',\n",
       " '__setattr__',\n",
       " '__sizeof__',\n",
       " '__str__',\n",
       " '__subclasshook__',\n",
       " '__weakref__',\n",
       " 'a',\n",
       " 'i',\n",
       " 'me']"
      ]
     },
     "execution_count": 150,
     "metadata": {},
     "output_type": "execute_result"
    }
   ],
   "source": [
    "dir(a)"
   ]
  },
  {
   "cell_type": "code",
   "execution_count": 162,
   "id": "8a4e8480",
   "metadata": {},
   "outputs": [],
   "source": [
    "class clac():\n",
    "    @staticmethod\n",
    "    def mul(a,b):\n",
    "        return(a*b)\n",
    "    def div(a,b):\n",
    "        return(a%b)"
   ]
  },
  {
   "cell_type": "code",
   "execution_count": null,
   "id": "4179c5fb",
   "metadata": {},
   "outputs": [],
   "source": []
  },
  {
   "cell_type": "code",
   "execution_count": 165,
   "id": "854095b6",
   "metadata": {},
   "outputs": [
    {
     "data": {
      "text/plain": [
       "20"
      ]
     },
     "execution_count": 165,
     "metadata": {},
     "output_type": "execute_result"
    }
   ],
   "source": [
    "clac.mul(5,4)"
   ]
  },
  {
   "cell_type": "code",
   "execution_count": null,
   "id": "f858483f",
   "metadata": {},
   "outputs": [],
   "source": []
  }
 ],
 "metadata": {
  "kernelspec": {
   "display_name": "Python 3 (ipykernel)",
   "language": "python",
   "name": "python3"
  },
  "language_info": {
   "codemirror_mode": {
    "name": "ipython",
    "version": 3
   },
   "file_extension": ".py",
   "mimetype": "text/x-python",
   "name": "python",
   "nbconvert_exporter": "python",
   "pygments_lexer": "ipython3",
   "version": "3.9.12"
  }
 },
 "nbformat": 4,
 "nbformat_minor": 5
}
